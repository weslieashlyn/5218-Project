{
  "nbformat": 4,
  "nbformat_minor": 0,
  "metadata": {
    "colab": {
      "name": "BaselineFlower.ipynb",
      "provenance": [],
      "collapsed_sections": []
    },
    "kernelspec": {
      "name": "python3",
      "display_name": "Python 3"
    },
    "language_info": {
      "name": "python"
    }
  },
  "cells": [
    {
      "cell_type": "code",
      "metadata": {
        "id": "IxbmbfYv_i3a"
      },
      "source": [
        "import collections\n",
        "import math\n",
        "import os\n",
        "import random\n",
        "from six.moves import urllib\n",
        "\n",
        "from IPython.display import clear_output, Image, display, HTML\n",
        "\n",
        "import tensorflow.compat.v1 as tf\n",
        "tf.disable_v2_behavior()\n",
        "\n",
        "import tensorflow_hub as hub\n",
        "\n",
        "import numpy as np\n",
        "import matplotlib.pyplot as plt\n",
        "import seaborn as sns\n",
        "import sklearn.metrics as sk_metrics\n",
        "import time\n",
        "\n",
        "from sklearn.dummy import DummyClassifier\n",
        "from sklearn.metrics import confusion_matrix\n",
        "from sklearn.metrics import accuracy_score"
      ],
      "execution_count": 30,
      "outputs": []
    },
    {
      "cell_type": "markdown",
      "metadata": {
        "id": "TTQWMrONBr8E"
      },
      "source": [
        "Getting the image data and splitting into train and test sets"
      ]
    },
    {
      "cell_type": "code",
      "metadata": {
        "id": "z5gLEr7l_ndB"
      },
      "source": [
        "FLOWERS_DIR = './flower_photos'\n",
        "TRAIN_FRACTION = 0.50075\n",
        "RANDOM_SEED = 2018\n",
        "\n",
        "\n",
        "def download_images():\n",
        "  \"\"\"If the images aren't already downloaded, save them to FLOWERS_DIR.\"\"\"\n",
        "  if not os.path.exists(FLOWERS_DIR):\n",
        "    DOWNLOAD_URL = 'http://download.tensorflow.org/example_images/flower_photos.tgz'\n",
        "    print('Downloading flower images from %s...' % DOWNLOAD_URL)\n",
        "    urllib.request.urlretrieve(DOWNLOAD_URL, 'flower_photos.tgz')\n",
        "    !tar xfz flower_photos.tgz\n",
        "  print('Flower photos are located in %s' % FLOWERS_DIR)\n",
        "\n",
        "\n",
        "def make_train_and_test_sets():\n",
        "  \"\"\"Split the data into train and test sets and get the label classes.\"\"\"\n",
        "  train_examples, test_examples = [], []\n",
        "  shuffler = random.Random(RANDOM_SEED)\n",
        "  is_root = True\n",
        "  for (dirname, subdirs, filenames) in tf.gfile.Walk(FLOWERS_DIR):\n",
        "    # The root directory gives us the classes\n",
        "    if is_root:\n",
        "      subdirs = sorted(subdirs)\n",
        "      classes = collections.OrderedDict(enumerate(subdirs))\n",
        "      label_to_class = dict([(x, i) for i, x in enumerate(subdirs)])\n",
        "      is_root = False\n",
        "    # The sub directories give us the image files for training.\n",
        "    else:\n",
        "      filenames.sort()\n",
        "      shuffler.shuffle(filenames)\n",
        "      full_filenames = [os.path.join(dirname, f) for f in filenames]\n",
        "      label = dirname.split('/')[-1]\n",
        "      label_class = label_to_class[label]\n",
        "      # An example is the image file and it's label class.\n",
        "      examples = list(zip(full_filenames, [label_class] * len(filenames)))\n",
        "      num_train = int(len(filenames) * TRAIN_FRACTION)\n",
        "      train_examples.extend(examples[:num_train])\n",
        "      test_examples.extend(examples[num_train:])\n",
        "\n",
        "  shuffler.shuffle(train_examples)\n",
        "  shuffler.shuffle(test_examples)\n",
        "  return train_examples, test_examples, classes"
      ],
      "execution_count": 31,
      "outputs": []
    },
    {
      "cell_type": "code",
      "metadata": {
        "colab": {
          "base_uri": "https://localhost:8080/"
        },
        "id": "ZsmSHn_GATFX",
        "outputId": "09a2524f-ecac-4dff-9e93-880f7a468035"
      },
      "source": [
        "# Download the images and split the images into train and test sets.\n",
        "download_images()\n",
        "TRAIN_EXAMPLES, TEST_EXAMPLES, CLASSES = make_train_and_test_sets()\n",
        "NUM_CLASSES = len(CLASSES)\n",
        "\n",
        "print('\\nThe dataset has %d label classes: %s' % (NUM_CLASSES, CLASSES.values()))\n",
        "print('There are %d training images' % len(TRAIN_EXAMPLES))\n",
        "print('there are %d test images' % len(TEST_EXAMPLES))"
      ],
      "execution_count": 32,
      "outputs": [
        {
          "output_type": "stream",
          "text": [
            "Flower photos are located in ./flower_photos\n",
            "\n",
            "The dataset has 5 label classes: odict_values(['daisy', 'dandelion', 'roses', 'sunflowers', 'tulips'])\n",
            "There are 1835 training images\n",
            "there are 1835 test images\n"
          ],
          "name": "stdout"
        }
      ]
    },
    {
      "cell_type": "code",
      "metadata": {
        "id": "9JCCFoKRAAj1"
      },
      "source": [
        "x = TRAIN_EXAMPLES\n",
        "y = TEST_EXAMPLES\n",
        "z = CLASSES"
      ],
      "execution_count": 33,
      "outputs": []
    },
    {
      "cell_type": "code",
      "metadata": {
        "colab": {
          "base_uri": "https://localhost:8080/"
        },
        "id": "JIbfNWhULkXN",
        "outputId": "75bbe6b8-c010-4a7d-9405-cde06c14f64a"
      },
      "source": [
        "print(z)"
      ],
      "execution_count": 34,
      "outputs": [
        {
          "output_type": "stream",
          "text": [
            "OrderedDict([(0, 'daisy'), (1, 'dandelion'), (2, 'roses'), (3, 'sunflowers'), (4, 'tulips')])\n"
          ],
          "name": "stdout"
        }
      ]
    },
    {
      "cell_type": "markdown",
      "metadata": {
        "id": "k4jR3Io9B_va"
      },
      "source": [
        "Using sklearn stratified Dummy Classifier to predict image classes"
      ]
    },
    {
      "cell_type": "code",
      "metadata": {
        "colab": {
          "base_uri": "https://localhost:8080/"
        },
        "id": "N6Tueb7v_z3t",
        "outputId": "d0cff64d-239b-4d26-fc4c-1cdc44d22c68"
      },
      "source": [
        "dummy_clf = DummyClassifier(strategy = \"stratified\")\n",
        "dummy_clf.fit(x, y)\n",
        "spred = dummy_clf.predict(y)\n",
        "print(spred)"
      ],
      "execution_count": 38,
      "outputs": [
        {
          "output_type": "stream",
          "text": [
            "[['./flower_photos/tulips/4602809199_d3030cef01_m.jpg' '1']\n",
            " ['./flower_photos/roses/7820626638_3e2d712303.jpg' '4']\n",
            " ['./flower_photos/dandelion/4510938552_6f7bae172a_n.jpg' '3']\n",
            " ...\n",
            " ['./flower_photos/sunflowers/7270375648_79f0caef42_n.jpg' '3']\n",
            " ['./flower_photos/daisy/5135131051_102d4878ca_n.jpg' '1']\n",
            " ['./flower_photos/sunflowers/45045005_57354ee844.jpg' '2']]\n"
          ],
          "name": "stdout"
        }
      ]
    },
    {
      "cell_type": "markdown",
      "metadata": {
        "id": "YYtEHL6yCSAS"
      },
      "source": [
        "Stratified usually yields about 1/6 or 16-17% accuracy"
      ]
    },
    {
      "cell_type": "markdown",
      "metadata": {
        "id": "qoMOeYyBCKIH"
      },
      "source": [
        "Using sklearn uniform Dummy Classifier to predict image classes"
      ]
    },
    {
      "cell_type": "code",
      "metadata": {
        "id": "KBwiXUwlnIQM",
        "colab": {
          "base_uri": "https://localhost:8080/"
        },
        "outputId": "b6773e85-0fab-4f8e-a0b0-84ef19c48687"
      },
      "source": [
        "dummy_clf = DummyClassifier(strategy = \"uniform\")\n",
        "dummy_clf.fit(x, y)\n",
        "upred = dummy_clf.predict(x)\n",
        "print(upred)"
      ],
      "execution_count": 37,
      "outputs": [
        {
          "output_type": "stream",
          "text": [
            "[['./flower_photos/dandelion/4155914848_3d57f50fc7.jpg' '4']\n",
            " ['./flower_photos/dandelion/8980145452_efbd6e3b04.jpg' '1']\n",
            " ['./flower_photos/tulips/5574219476_1f46775487_n.jpg' '3']\n",
            " ...\n",
            " ['./flower_photos/sunflowers/6112510436_9fe06e695a_n.jpg' '1']\n",
            " ['./flower_photos/roses/5050969148_a0090f762a.jpg' '2']\n",
            " ['./flower_photos/daisy/495098110_3a4bb30042_n.jpg' '0']]\n"
          ],
          "name": "stdout"
        }
      ]
    },
    {
      "cell_type": "markdown",
      "metadata": {
        "id": "Ai8OguglCeUm"
      },
      "source": [
        "Uniform usually yields anywhere from 16-17% to 50% accuracy"
      ]
    },
    {
      "cell_type": "markdown",
      "metadata": {
        "id": "ZaFrc8gQC2dC"
      },
      "source": [
        "Using sklearn Multi Output Classifier to predict image classes"
      ]
    },
    {
      "cell_type": "code",
      "metadata": {
        "id": "vydoCPfzAlnH"
      },
      "source": [
        "import numpy as np\n",
        "from sklearn.datasets import make_multilabel_classification\n",
        "from sklearn.multioutput import MultiOutputClassifier\n",
        "from sklearn.neighbors import KNeighborsClassifier"
      ],
      "execution_count": 39,
      "outputs": []
    },
    {
      "cell_type": "code",
      "metadata": {
        "colab": {
          "base_uri": "https://localhost:8080/"
        },
        "id": "yR3jVLLOAjo_",
        "outputId": "0a4b6e28-4060-4c14-9f99-cb75c3c84076"
      },
      "source": [
        "x, y = make_multilabel_classification(n_classes=3, random_state=0)\n",
        "clf = MultiOutputClassifier(KNeighborsClassifier()).fit(x, y)\n",
        "clf.predict(x)\n",
        "\n",
        "clf.score(x, y)"
      ],
      "execution_count": 41,
      "outputs": [
        {
          "output_type": "execute_result",
          "data": {
            "text/plain": [
              "0.68"
            ]
          },
          "metadata": {
            "tags": []
          },
          "execution_count": 41
        }
      ]
    },
    {
      "cell_type": "markdown",
      "metadata": {
        "id": "gPTZUV5tC5pS"
      },
      "source": [
        "Yields an accuracy of 68%, which is much higher than the sklearn Dummy Classifier"
      ]
    }
  ]
}